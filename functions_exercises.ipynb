{
 "cells": [
  {
   "cell_type": "code",
   "execution_count": 1,
   "id": "cf78f311",
   "metadata": {},
   "outputs": [],
   "source": [
    "#1\n",
    "def is_two(x):\n",
    "    return x == 2 or x == '2'"
   ]
  },
  {
   "cell_type": "code",
   "execution_count": 2,
   "id": "dded829e",
   "metadata": {},
   "outputs": [
    {
     "data": {
      "text/plain": [
       "True"
      ]
     },
     "execution_count": 2,
     "metadata": {},
     "output_type": "execute_result"
    }
   ],
   "source": [
    "is_two(2)"
   ]
  },
  {
   "cell_type": "code",
   "execution_count": 3,
   "id": "8fb2bce2",
   "metadata": {},
   "outputs": [],
   "source": [
    "#2\n",
    "def is_vowel(string):\n",
    "    return len(string) == 1 and string.lower() in 'aeiou'\n"
   ]
  },
  {
   "cell_type": "code",
   "execution_count": 4,
   "id": "ebf1dbb5",
   "metadata": {},
   "outputs": [
    {
     "data": {
      "text/plain": [
       "False"
      ]
     },
     "execution_count": 4,
     "metadata": {},
     "output_type": "execute_result"
    }
   ],
   "source": [
    "is_vowel('k')"
   ]
  },
  {
   "cell_type": "code",
   "execution_count": 5,
   "id": "11aa7699",
   "metadata": {},
   "outputs": [],
   "source": [
    "#3\n",
    "def is_consonant(string):\n",
    "    return len(string) == 1 and not is_vowel(string) and string.isalpha()"
   ]
  },
  {
   "cell_type": "code",
   "execution_count": 6,
   "id": "31bbd558",
   "metadata": {},
   "outputs": [
    {
     "data": {
      "text/plain": [
       "True"
      ]
     },
     "execution_count": 6,
     "metadata": {},
     "output_type": "execute_result"
    }
   ],
   "source": [
    "is_consonant('t')"
   ]
  },
  {
   "cell_type": "code",
   "execution_count": 7,
   "id": "ae7bee6a",
   "metadata": {},
   "outputs": [],
   "source": [
    "#4\n",
    "\n",
    "def capitalize_starting_consonant(string):\n",
    "    first_letter = string[0]\n",
    "    if is_consonant(first_letter):\n",
    "        string = string.capitalize()\n",
    "    return string"
   ]
  },
  {
   "cell_type": "code",
   "execution_count": null,
   "id": "37b8fa1d",
   "metadata": {},
   "outputs": [],
   "source": []
  },
  {
   "cell_type": "code",
   "execution_count": 8,
   "id": "bab245b4",
   "metadata": {},
   "outputs": [
    {
     "data": {
      "text/plain": [
       "'Tree'"
      ]
     },
     "execution_count": 8,
     "metadata": {},
     "output_type": "execute_result"
    }
   ],
   "source": [
    "capitalize_starting_consonant('tree')"
   ]
  },
  {
   "cell_type": "code",
   "execution_count": 9,
   "id": "f2055f8c",
   "metadata": {},
   "outputs": [],
   "source": [
    "#5\n",
    "def calculate_tip(tip_percentage, bill):\n",
    "    amount_to_tip = bill * tip_percentage\n",
    "    return amount_to_tip"
   ]
  },
  {
   "cell_type": "code",
   "execution_count": 12,
   "id": "d4bd171b",
   "metadata": {},
   "outputs": [],
   "source": [
    "#6\n",
    "def apply_discount(price, discount_percentage):\n",
    "    discount = price * discount_percentage\n",
    "    return price - discount"
   ]
  },
  {
   "cell_type": "code",
   "execution_count": 14,
   "id": "fc18f95a",
   "metadata": {},
   "outputs": [],
   "source": [
    "#7\n",
    "\n",
    "\n",
    "def handle_commas(numeric_string):\n",
    "    string_without_commas = numeric_string.replace(',', '')\n",
    "    actual_number = int(string_without_commas)\n",
    "    return actual_number"
   ]
  },
  {
   "cell_type": "code",
   "execution_count": 24,
   "id": "9a4d4c4d",
   "metadata": {},
   "outputs": [],
   "source": [
    "#8 \n",
    "\n",
    "def get_letter_grade(grade):\n",
    "    if type(grade) == int or type(grade) == float:\n",
    "        if grade >= 90:\n",
    "            return \"A\"\n",
    "        elif grade >= 80:\n",
    "            return \"B\"\n",
    "        elif grade >= 70:\n",
    "            return \"C\"\n",
    "        elif grade >= 60:\n",
    "            return \"D\"\n",
    "        else:\n",
    "            return \"F\"\n",
    "    else:\n",
    "        return \"Input must be a number\""
   ]
  },
  {
   "cell_type": "code",
   "execution_count": 16,
   "id": "65d0e7fc",
   "metadata": {},
   "outputs": [
    {
     "name": "stdout",
     "output_type": "stream",
     "text": [
      "Ths s Grt\n"
     ]
    }
   ],
   "source": [
    "#9\n",
    "\n",
    "def remove_vowels(string):\n",
    "    vowels = ['a','e','i','o','u']\n",
    "    result = [letter for letter in string if letter.lower() not in vowels]\n",
    "    result = ''.join(result)\n",
    "    print(result)\n",
    "    \n",
    "string = \"This is Great\"\n",
    "remove_vowels(string)"
   ]
  },
  {
   "cell_type": "code",
   "execution_count": 17,
   "id": "e87cd4a7",
   "metadata": {},
   "outputs": [],
   "source": [
    "#10\n",
    "\n",
    "def remove_special_char(string):\n",
    "    return ''.join([c for c in string if c.isalnum() or c == ' '])"
   ]
  },
  {
   "cell_type": "code",
   "execution_count": 18,
   "id": "c64dc147",
   "metadata": {},
   "outputs": [
    {
     "data": {
      "text/plain": [
       "'name  2'"
      ]
     },
     "execution_count": 18,
     "metadata": {},
     "output_type": "execute_result"
    }
   ],
   "source": [
    "remove_special_char('name % 2')"
   ]
  },
  {
   "cell_type": "code",
   "execution_count": 19,
   "id": "42428191",
   "metadata": {},
   "outputs": [],
   "source": [
    "def normalize_name(string):\n",
    "    special_char_removed = remove_special_char(string)\n",
    "    return special_char_removed.lower().strip().replace(' ', '_')"
   ]
  },
  {
   "cell_type": "code",
   "execution_count": 20,
   "id": "95a68c5b",
   "metadata": {},
   "outputs": [
    {
     "data": {
      "text/plain": [
       "'lindy_castellaw'"
      ]
     },
     "execution_count": 20,
     "metadata": {},
     "output_type": "execute_result"
    }
   ],
   "source": [
    "normalize_name('Lindy castellaw')"
   ]
  },
  {
   "cell_type": "code",
   "execution_count": 22,
   "id": "b540e24c",
   "metadata": {},
   "outputs": [],
   "source": [
    "#11\n",
    "\n",
    "def cumulative_sum(nums):\n",
    "    output = []\n",
    "    total = 0\n",
    "    for num in nums:\n",
    "        total += num\n",
    "        output.append(total)\n",
    "    return output"
   ]
  },
  {
   "cell_type": "code",
   "execution_count": 23,
   "id": "e74fb838",
   "metadata": {},
   "outputs": [
    {
     "name": "stdout",
     "output_type": "stream",
     "text": [
      "12-hour Format time::  03:25PM\n",
      "24-hour Format time :: 15:25PM\n"
     ]
    }
   ],
   "source": [
    "\n",
    "#bonus\n",
    "\n",
    "def twelveto24(string):\n",
    "\n",
    "      if string[-2:] == \"AM\" and string[:2] == \"12\":\n",
    "         return \"00\" + string[2:-2]\n",
    "\n",
    "      elif string[-2:] == \"AM\":\n",
    "         return string[:-2]\n",
    "\n",
    "      elif string[-2:] == \"PM\" and string[:2] == \"12\":\n",
    "         return string[:-2]\n",
    "        \n",
    "      else:\n",
    "          return str(int(string[:2]) + 12) + string[2:8]\n",
    "\n",
    "\n",
    "time=\"03:25PM\"\n",
    "print(\"12-hour Format time:: \", time)\n",
    "print(\"24-hour Format time ::\",twelveto24(time))\n"
   ]
  },
  {
   "cell_type": "code",
   "execution_count": null,
   "id": "16dc29c6",
   "metadata": {},
   "outputs": [],
   "source": []
  }
 ],
 "metadata": {
  "kernelspec": {
   "display_name": "Python 3 (ipykernel)",
   "language": "python",
   "name": "python3"
  },
  "language_info": {
   "codemirror_mode": {
    "name": "ipython",
    "version": 3
   },
   "file_extension": ".py",
   "mimetype": "text/x-python",
   "name": "python",
   "nbconvert_exporter": "python",
   "pygments_lexer": "ipython3",
   "version": "3.9.12"
  }
 },
 "nbformat": 4,
 "nbformat_minor": 5
}
